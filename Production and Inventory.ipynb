{
 "cells": [
  {
   "cell_type": "code",
   "execution_count": 1,
   "id": "7cf6d204",
   "metadata": {},
   "outputs": [],
   "source": [
    "import cvxpy as cp\n"
   ]
  },
  {
   "cell_type": "code",
   "execution_count": 2,
   "id": "885b029b",
   "metadata": {},
   "outputs": [],
   "source": [
    "# demand in a day\n",
    "d = [75, 150, 100, 60]\n",
    "\n",
    "# unit cost of a day\n",
    "c = [4, 5, 7, 4]"
   ]
  },
  {
   "cell_type": "code",
   "execution_count": 3,
   "id": "af26fd5f",
   "metadata": {},
   "outputs": [],
   "source": [
    "t = 4\n",
    "\n",
    "# production quantity of day $t$, $t=1, ..., 4$\n",
    "q = cp.Variable(t, integer=True)\n",
    "\n",
    "# ending inventory of day $t, t=0,1, ..., 4$\n",
    "e = cp.Variable(t + 1, integer=True)"
   ]
  },
  {
   "cell_type": "code",
   "execution_count": 4,
   "id": "725c5d6b",
   "metadata": {},
   "outputs": [],
   "source": [
    "obj = cp.Minimize(c @ q + sum(e))"
   ]
  },
  {
   "cell_type": "code",
   "execution_count": 5,
   "id": "8ec2ebd3",
   "metadata": {},
   "outputs": [],
   "source": [
    "constraints = [\n",
    "                e[0] == 0, \n",
    "                e[1:] == e[:-1] + q - d, \n",
    "                e >= 0, q >= 0\n",
    "              ]"
   ]
  },
  {
   "cell_type": "code",
   "execution_count": 6,
   "id": "f4ae2bd1",
   "metadata": {},
   "outputs": [
    {
     "data": {
      "text/plain": [
       "1890.0"
      ]
     },
     "execution_count": 6,
     "metadata": {},
     "output_type": "execute_result"
    }
   ],
   "source": [
    "prob = cp.Problem(obj, constraints)\n",
    "prob.solve()"
   ]
  },
  {
   "cell_type": "code",
   "execution_count": 14,
   "id": "c927f1ab",
   "metadata": {},
   "outputs": [
    {
     "data": {
      "text/plain": [
       "'optimal'"
      ]
     },
     "execution_count": 14,
     "metadata": {},
     "output_type": "execute_result"
    }
   ],
   "source": [
    "prob.status"
   ]
  },
  {
   "cell_type": "code",
   "execution_count": 7,
   "id": "c8640b4e",
   "metadata": {},
   "outputs": [
    {
     "name": "stdout",
     "output_type": "stream",
     "text": [
      "[ 75. 250.   0.  60.]\n"
     ]
    }
   ],
   "source": [
    "print(q.value)"
   ]
  },
  {
   "cell_type": "code",
   "execution_count": 8,
   "id": "6571aa10",
   "metadata": {},
   "outputs": [
    {
     "name": "stdout",
     "output_type": "stream",
     "text": [
      "[  0. 100.   0.   0.]\n"
     ]
    }
   ],
   "source": [
    "print(e.value[1:])"
   ]
  },
  {
   "cell_type": "code",
   "execution_count": 9,
   "id": "c490802d",
   "metadata": {},
   "outputs": [],
   "source": [
    "# Experiment with Other Possible Combinations\n",
    "\n",
    "import numpy as np\n",
    "\n",
    "def calculate_inventory(demands: np.array, quantities: np.array):\n",
    "    \"\"\"Calculate the ending inventory based on the demand and the production \n",
    "    quantities for each day\"\"\"\n",
    "  \n",
    "    inventory = []\n",
    "    new_inventory = 0\n",
    "    for i in range(len(quantities)):\n",
    "        new_inventory = new_inventory + quantities[i] - demands[i]\n",
    "        inventory.append(new_inventory)\n",
    "    return inventory\n",
    "    \n",
    "def get_cost(demands: np.array, cost: np.array, quantities: np.array):\n",
    "    \"\"\"Get the total cost based on the production quantities\"\"\"\n",
    "    inventory_per_day = calculate_inventory(demands, quantities)\n",
    "    return sum(cost * quantities + inventory_per_day * 1)"
   ]
  },
  {
   "cell_type": "code",
   "execution_count": 11,
   "id": "0893038f",
   "metadata": {},
   "outputs": [
    {
     "data": {
      "text/plain": [
       "2070"
      ]
     },
     "execution_count": 11,
     "metadata": {},
     "output_type": "execute_result"
    }
   ],
   "source": [
    "demands = np.array([75, 150, 100, 60])\n",
    "cost = np.array([4, 5, 7, 4])\n",
    "quantities = np.array([385, 0, 0, 0])\n",
    "get_cost(demands, cost, quantities)"
   ]
  },
  {
   "cell_type": "code",
   "execution_count": 13,
   "id": "8e18f0ca",
   "metadata": {},
   "outputs": [
    {
     "data": {
      "text/plain": [
       "2070"
      ]
     },
     "execution_count": 13,
     "metadata": {},
     "output_type": "execute_result"
    }
   ],
   "source": [
    "quantities = np.array([300, 85, 0, 0])\n",
    "get_cost(demands, cost, quantities)"
   ]
  },
  {
   "cell_type": "code",
   "execution_count": 15,
   "id": "aeeb593c",
   "metadata": {},
   "outputs": [
    {
     "data": {
      "text/plain": [
       "1890"
      ]
     },
     "execution_count": 15,
     "metadata": {},
     "output_type": "execute_result"
    }
   ],
   "source": [
    "quantities = np.array([325, 0, 0, 60])\n",
    "get_cost(demands, cost, quantities)"
   ]
  },
  {
   "cell_type": "code",
   "execution_count": null,
   "id": "2fe9ed07",
   "metadata": {},
   "outputs": [],
   "source": []
  }
 ],
 "metadata": {
  "kernelspec": {
   "display_name": "Python 3",
   "language": "python",
   "name": "python3"
  },
  "language_info": {
   "codemirror_mode": {
    "name": "ipython",
    "version": 3
   },
   "file_extension": ".py",
   "mimetype": "text/x-python",
   "name": "python",
   "nbconvert_exporter": "python",
   "pygments_lexer": "ipython3",
   "version": "3.9.4"
  }
 },
 "nbformat": 4,
 "nbformat_minor": 5
}
